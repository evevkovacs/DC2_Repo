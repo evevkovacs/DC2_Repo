{
 "cells": [
  {
   "cell_type": "markdown",
   "metadata": {},
   "source": [
    "## DC2: Generate Postage Stamps for set of RA, Dec coordinates\n",
    "\n",
    "This Notebook demonstrates taking a list of RA, Dec positions and generating \"postage-stamp\" cutout images from the coadded images.  It illustrates using `matplotlib` for simple display and saving of PNGs.  It also introduces using `lsst.afw.display` to use a more DM-product aware visualization to show the detect object footprints and other mask planes.\n",
    "\n",
    "### Learning Objectives:\n",
    "After working through and studying this Notebook you should be able to\n",
    "   1. Generate a postage stamp from a coadd for your chosen RA, Dec in a chosen filter and save as (a) a FITS file and (b) a PNG.\n",
    "   2. Use afw.display to show a postage stamp along with the mask planes from the coadd image, including overlaying the object footprints.\n",
    "   3. [Advanced] Instantiate a Butler object for a repo and read an arbitrary coadd image.  This will require reading through functions carefully and testing individual lines.  \n",
    "   4. [Advanced] Load the PSF model for a coadd and evaluate it at a given RA, Dec.\n",
    "   5. [Expert] Look up which tract, patch a given RA, Dec falls in.\n",
    "\n",
    "### Logistics\n",
    "This is intended to be runnable at NERSC through the https://jupyter-dev.nersc.gov interface from a local git clone of https://githug.com/LSSTDESC/DC2_Repo in your NERSC directory.  But you can also run it wherever, with appropriate adjustment of the 'repo' location to point to a place where you have a Butler repo will all of the images.\n",
    "\n",
    "Based in part on https://github.com/lsst-com/notebooks/blob/master/postage_stamp.ipynb"
   ]
  },
  {
   "cell_type": "code",
   "execution_count": null,
   "metadata": {},
   "outputs": [],
   "source": [
    "import numpy as np\n",
    "\n",
    "from astropy.table import Table\n",
    "\n",
    "import lsst.daf.persistence as dafPersist\n",
    "import lsst.afw.geom as afwGeom\n",
    "import lsst.afw.coord as afwCoord\n",
    "import lsst.afw.image as afwImage\n",
    "import lsst.afw.display as afwDisplay\n",
    "\n",
    "from astropy.visualization import ZScaleInterval"
   ]
  },
  {
   "cell_type": "code",
   "execution_count": null,
   "metadata": {},
   "outputs": [],
   "source": [
    "# Set plotting defaults\n",
    "%matplotlib notebook\n",
    "import matplotlib.pyplot as plt\n",
    "plt.rcParams['figure.figsize'] = (8, 8)\n",
    "zscale = ZScaleInterval()"
   ]
  },
  {
   "cell_type": "code",
   "execution_count": null,
   "metadata": {},
   "outputs": [],
   "source": [
    "def cutout_coadd_ra_dec(butler, ra, dec, filt='r', datasetType='deepCoadd', **kwargs):\n",
    "    \"\"\"Produce a cutout from coadd from the given butler at the given RA, Dec in decimal degrees\n",
    "    \n",
    "    Trivial wrapper around 'cutout_from_coadd_spherepoint'\n",
    "    \"\"\"\n",
    "    radec = afwGeom.SpherePoint(ra, dec, afwGeom.degrees)\n",
    "    return cutout_coadd_spherepoint(butler, radec, filter=filt, datasetType=datasetType)\n",
    "    \n",
    "def cutout_coadd_spherepoint(butler, radec, filt='r', datasetType='deepCoadd',\n",
    "                                  skymap=None, cutoutSideLength=50, **kwargs):\n",
    "    \"\"\"Produce a cutout from a coadd at the given afw SpherePoint radec\n",
    "    \n",
    "\n",
    "    Parameters\n",
    "    --\n",
    "    butler - lsst.daf.persistence.Butler of the data repository\n",
    "    radec - lsst.afw.geom.SpherePoint coordinates of the center of the cutout.\n",
    "    filter - Filter of the image to load\n",
    "    datasetType - 'deepCoadd'  Which type of coadd to load.  Doesn't support 'calexp'\n",
    "    \n",
    "    skymap - [optional] Pass in to avoid the Butler read.  Useful if you have lots of them.\n",
    "    cutoutSideLength - [optional] Side of the cutout region in pixels.\n",
    "    \n",
    "    Returns\n",
    "    --\n",
    "    MaskedImage\n",
    "    \"\"\"\n",
    "    cutoutSideLength = 50  # pixels\n",
    "    cutoutSize = afwGeom.ExtentI(cutoutSideLength, cutoutSideLength)\n",
    "\n",
    "    if skymap is None:\n",
    "        skymap = butler.get(\"deepCoadd_skyMap\")\n",
    "    \n",
    "    tractInfo = skymap.findTract(radec)\n",
    "    patchInfo = tractInfo.findPatch(radec)\n",
    "    xy = afwGeom.PointI(tractInfo.getWcs().skyToPixel(radec))\n",
    "    bbox = afwGeom.BoxI(xy - cutoutSize//2, cutoutSize)\n",
    "\n",
    "    coaddId = {'tract': tractInfo.getId(), 'patch': \"%d,%d\" % patchInfo.getIndex(), 'filter': filt}\n",
    "    \n",
    "    cutout_image = butler.get(datasetType+'_sub', bbox=bbox, immediate=True, dataId=coaddId)\n",
    "    \n",
    "    return cutout_image"
   ]
  },
  {
   "cell_type": "code",
   "execution_count": null,
   "metadata": {},
   "outputs": [],
   "source": [
    "def make_cutout_image(butler, ra, dec, vmin=None, vmax=None, label=None,\n",
    "                      show=True, saveplot=False, savefits=False,\n",
    "                      datasetType='deepCoadd'):\n",
    "    \"\"\"Generate and optionally display and save a postage stamp for a given RA, Dec.\n",
    "    \n",
    "    Returns\n",
    "    --\n",
    "    MaskedImage\n",
    "\n",
    "    Uses matplotlib to generate stamps.  Saves FITS file if requested.\n",
    "    \"\"\"\n",
    "\n",
    "    cutout_image = cutout_coadd_ra_dec(butler, ra, dec, filter='r', datasetType='deepCoadd')\n",
    "    if savefits:\n",
    "        if isinstance(savefits, str):\n",
    "            filename = savefits\n",
    "        else:\n",
    "            filename = 'postage-stamp.fits'\n",
    "        cutout_image.writeFits(filename)\n",
    "    \n",
    "    radec = afwGeom.SpherePoint(ra, dec, afwGeom.degrees)\n",
    "    xy = cutout_image.getWcs().skyToPixel(radec)\n",
    "    \n",
    "    if vmin is None or vmax is None:\n",
    "        vmin, vmax = zscale.get_limits(cutout_image.image.array)\n",
    "\n",
    "    plt.imshow(cutout_image.image.array, vmin=vmin, vmax=vmax, cmap='binary')\n",
    "    plt.colorbar()\n",
    "    plt.scatter(xy.getX() - cutout_image.getX0(), xy.getY() - cutout_image.getY0(),\n",
    "                color='none', edgecolor='red', marker='o', s=200)\n",
    "    if label is not None:\n",
    "        plt.title(label)\n",
    "    if saveplot:\n",
    "        if isinstance(saveplot, str):\n",
    "            filename = saveplot\n",
    "        else:\n",
    "            filename = 'postage-stamp.png'\n",
    "        plt.savefig(filename)\n",
    "    if show:\n",
    "        plt.show()\n",
    "\n",
    "    return cutout_image"
   ]
  },
  {
   "cell_type": "code",
   "execution_count": null,
   "metadata": {
    "scrolled": true
   },
   "outputs": [],
   "source": [
    "repo = '/global/projecta/projectdirs/lsst/global/in2p3/Run1.1/output'\n",
    "butler = dafPersist.Butler(repo)"
   ]
  },
  {
   "cell_type": "code",
   "execution_count": null,
   "metadata": {},
   "outputs": [],
   "source": [
    "filt = 'r'\n",
    "coord_file = 'id_ra_dec_mid_mag_%s.txt' % filt\n",
    "id_ra_dec = Table.read(coord_file, format='ascii')"
   ]
  },
  {
   "cell_type": "code",
   "execution_count": null,
   "metadata": {
    "scrolled": false
   },
   "outputs": [],
   "source": [
    "# Plot just one\n",
    "first = id_ra_dec[0]\n",
    "ra, dec = first['RA'], first['DEC']\n",
    "cutout = make_cutout_image(butler, ra, dec, label=\"Object ID: %d\" % id_ra_dec[0]['ID'])"
   ]
  },
  {
   "cell_type": "markdown",
   "metadata": {},
   "source": [
    "Because we're using `notebook` as the backend, as long as this is the interactive figure, we can interact with the figure and read off pixel coordinates and counts."
   ]
  },
  {
   "cell_type": "markdown",
   "metadata": {},
   "source": [
    "We can loop over this to create postage-stamps for each entry in our catalog.  We turn of `show` here because looping over 20 plots doesn't do very much useful or nice in `notebook` backend."
   ]
  },
  {
   "cell_type": "code",
   "execution_count": null,
   "metadata": {
    "scrolled": false
   },
   "outputs": [],
   "source": [
    "show = False\n",
    "datasetType = 'deepCoadd'\n",
    "vmin, vmax = -0.75, +1.5  # Fix the vmin, vmax to make it easier to compare across postage stamps.\n",
    "\n",
    "for objectId, ra, dec in id_ra_dec:\n",
    "    plt.clf()\n",
    "    basename = \"%s_%s_%s\" % (datasetType, objectId, filt)\n",
    "    saveplot = \"%s.png\" % basename\n",
    "    savefits = \"%s.fits\" % basename\n",
    "    make_cutout_image(butler, ra, dec, vmin=vmin, vmax=vmax,\n",
    "                      datasetType=datasetType,\n",
    "                      label=\"Object ID: %d\" % objectId,\n",
    "                      show=show, saveplot=saveplot, savefits=savefits)"
   ]
  },
  {
   "cell_type": "markdown",
   "metadata": {},
   "source": [
    "## AFW Display\n",
    "\n",
    "But there's additional information available in the Exposure object that we can access using LSST DM tools that are aware of these.  Specifically, we'll use `lsst.afw.display` to expose the mask planes in a cutout image."
   ]
  },
  {
   "cell_type": "code",
   "execution_count": null,
   "metadata": {},
   "outputs": [],
   "source": [
    "def display_cutout_image(butler, ra, dec, vmin=None, vmax=None, label=None,\n",
    "                      display=None, backend='matplotlib',\n",
    "                      show=True, saveplot=False, savefits=False,\n",
    "                      old_matplotlib = False,\n",
    "                      datasetType='deepCoadd'):\n",
    "    \"\"\"Display a postage stamp for a given RA, Dec using LSST lsst.afw.display.\n",
    "    \n",
    "    Returns\n",
    "    --\n",
    "    MaskedImage\n",
    "    \n",
    "    Backend can be anything that lsst.afw.display and your configuration supports:\n",
    "       matplotlib, ds9, ginga, firefly.\n",
    "    You definitely have matplotlib.\n",
    "    ds9, ginga, and firefly can be set up but are non-trivial on the scale of a simple Notebook\n",
    "    \"\"\"\n",
    "    cutout_image = cutout_coadd_ra_dec(butler, ra, dec, filter='r', datasetType='deepCoadd')\n",
    "    if savefits:\n",
    "        if isinstance(savefits, str):\n",
    "            filename = savefits\n",
    "        else:\n",
    "            filename = 'postage-stamp.fits'\n",
    "        cutout_image.writeFits(filename)\n",
    "    \n",
    "    if display is None:\n",
    "        display = afwDisplay.Display(backend=backend)\n",
    "\n",
    "    radec = afwGeom.SpherePoint(ra, dec, afwGeom.degrees)\n",
    "    xy = cutout_image.getWcs().skyToPixel(radec)\n",
    "    \n",
    "    display.mtv(cutout_image)\n",
    "    display.scale(\"asinh\", \"zscale\")\n",
    "    display.dot('o', xy.getX(), xy.getY(), ctype='red')\n",
    "    \n",
    "    return cutout_image"
   ]
  },
  {
   "cell_type": "code",
   "execution_count": null,
   "metadata": {},
   "outputs": [],
   "source": [
    "# Display just one\n",
    "first = id_ra_dec[0]\n",
    "ra, dec = first['RA'], first['DEC']\n",
    "cutout = display_cutout_image(butler, ra, dec, label=\"Object ID: %d\" % id_ra_dec[0]['ID'])"
   ]
  },
  {
   "cell_type": "markdown",
   "metadata": {},
   "source": [
    "Here when we browse around we get both x,y coordinates (RA, Dec) = $(\\alpha, \\delta)$ the pixel counts as well as the list of named mask bits that are set for the pixels."
   ]
  },
  {
   "cell_type": "markdown",
   "metadata": {},
   "source": [
    "# Mask planes\n",
    "\n",
    "Along with the pixels, the coadd image also has a set of associated \"mask\" planes. \"Mask\" means has an identified property -- it doesn't necessarily mean \"bad\".  In particular, the \"DETECTED\" mask plane means the measurement identified an object here.  \"Plane\" here refers to a specific bit in the mask.\n",
    "\n",
    "Specifically, the blue overlays above are called the \"footprints\" for the observations.  These are the pixels identified by the pipeline as \"belonging\" to the object: pixels where the object contributes detectable number of photons above the sky background.\n",
    "\n",
    "The colors are configurable, but the default values are:"
   ]
  },
  {
   "cell_type": "code",
   "execution_count": null,
   "metadata": {},
   "outputs": [],
   "source": [
    "display = afwDisplay.getDisplay()\n",
    "for maskName, maskBit in cutout.mask.getMaskPlaneDict().items():\n",
    "    print('{}: {}'.format(maskName, display.getMaskPlaneColor(maskName)))"
   ]
  },
  {
   "cell_type": "markdown",
   "metadata": {},
   "source": [
    "### Differences between the `plt.imshow` and `afwDisplay`:\n",
    "* Color scale inverted  \n",
    "    Arbitrary choice.  You could choose many different color scales.\n",
    "* X,Y origin flipped vertically  \n",
    "    Note that `afwDisplay` shows the pixels with the lower-left as the origin, which is the x,y convention that most  astronomers are using to thinking in.  This is opposite to the vertical orientation in `matplotlib.pyplot.imshow`.  We also get the original pixel coordinates of the tract+patch coadd image, which is potentially useful.\n",
    "* We've lost our color bar.  \n",
    "  While in principle, this is worse, in practice, we didn't know what the values meant anyway (counts/sec, nanoJanskys?) and as long as we can see the sky noise we're getting a sense of the significance.\n",
    "* MWV doesn't know how to save the displayed image as a PNG.\n",
    "\n",
    "Take a look at https://pipelines.lsst.io/v/DM-11077/getting-started/display.html for a few more details."
   ]
  },
  {
   "cell_type": "markdown",
   "metadata": {},
   "source": [
    "### PSF Model\n",
    "\n",
    "The cutout image object retains full information from the image, including the PSF model.\n",
    "\n",
    "The PSF model is accessible as a function object that can be evaluated a specific locations.\n",
    "\n",
    "In addition, the coadd catalog saves the xx, xy, yy moments of the PSF model at the location of photometered objects."
   ]
  },
  {
   "cell_type": "code",
   "execution_count": null,
   "metadata": {},
   "outputs": [],
   "source": [
    "# We still have our cutout image object from above\n",
    "psf = cutout.getPsf()"
   ]
  },
  {
   "cell_type": "code",
   "execution_count": null,
   "metadata": {},
   "outputs": [],
   "source": [
    "print(psf)"
   ]
  },
  {
   "cell_type": "markdown",
   "metadata": {},
   "source": [
    "The repition in the object name is a consequence of the pybind11 mapping.  It's really a `lsst.meas.algorithms.coaddPsf` object.  The C++ documentation unfortunately doesn't come through nicely through the wrapping to Python:"
   ]
  },
  {
   "cell_type": "code",
   "execution_count": null,
   "metadata": {
    "scrolled": true
   },
   "outputs": [],
   "source": [
    "help(psf)"
   ]
  },
  {
   "cell_type": "markdown",
   "metadata": {},
   "source": [
    "We can look up the documentation in the LSST DM Stack Doxygen pages.  If we assume (correctly for these purposes) that a CoaddPsf is just like a regular PSF, then we can look here:\n",
    "http://doxygen.lsst.codes/stack/doxygen/x_masterDoxyDoc/classlsst_1_1afw_1_1detection_1_1_psf.html\n",
    "\n",
    "where we will see that there are several relevant functions:\n",
    "`computeImage`: Return an Image of the PSF, in a form that can be compared directly with star images.\n",
    "`computeKernelImage`:  Return an Image of the PSF, in a form suitable for convolution.\n",
    "`computeShape`: Compute the ellipse corresponding to the second moments of the Psf.\n",
    "\n",
    "and then some interesting things you might not have expected to even be available:\n",
    "`getAverageColor`: Return the average Color of the stars used to construct the Psf.\n",
    "`getAveragePosition`: Return the average position of the stars used to construct the Psf. "
   ]
  },
  {
   "cell_type": "markdown",
   "metadata": {},
   "source": [
    "Unfortunately, the documentation is hard to read from a Python perspective.  What kind of arguments does the following function actually want and how do I create those objects?\n",
    "```\n",
    "computeImage(...) from builtins.PyCapsule\n",
    "        computeImage(self: lsst.afw.detection._psf.Psf, position: lsst.afw.geom.coordinates.coordinates.Point2D=Point2D(nan, nan), color: lsst.afw.image.color.Color=<lsst.afw.image.color.Color object at 0x2b8f57b38928>, owner: lsst.afw.detection._psf.ImageOwnerEnum=ImageOwnerEnum.COPY) -> lsst.afw.image.image.image.ImageD)\n",
    "```"
   ]
  },
  {
   "cell_type": "code",
   "execution_count": null,
   "metadata": {},
   "outputs": [],
   "source": []
  }
 ],
 "metadata": {
  "kernelspec": {
   "display_name": "Python(DC2)",
   "language": "python",
   "name": "dc2_stack"
  },
  "language_info": {
   "codemirror_mode": {
    "name": "ipython",
    "version": 3
   },
   "file_extension": ".py",
   "mimetype": "text/x-python",
   "name": "python",
   "nbconvert_exporter": "python",
   "pygments_lexer": "ipython3",
   "version": "3.6.2"
  }
 },
 "nbformat": 4,
 "nbformat_minor": 2
}
