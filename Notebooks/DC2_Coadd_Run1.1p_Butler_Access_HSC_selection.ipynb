{
 "cells": [
  {
   "cell_type": "code",
   "execution_count": 1,
   "metadata": {},
   "outputs": [],
   "source": [
    "%matplotlib inline\n",
    "import numpy as np\n",
    "import pandas as pd\n",
    "import matplotlib.pyplot as plt\n",
    "import lsst.daf.persistence as dp"
   ]
  },
  {
   "cell_type": "code",
   "execution_count": 2,
   "metadata": {},
   "outputs": [
    {
     "name": "stderr",
     "output_type": "stream",
     "text": [
      "/global/common/software/lsst/common/miniconda/py3-4.3.21-env/lib/python3.6/site-packages/matplotlib/__init__.py:1405: UserWarning: \n",
      "This call to matplotlib.use() has no effect because the backend has already\n",
      "been chosen; matplotlib.use() must be called *before* pylab, matplotlib.pyplot,\n",
      "or matplotlib.backends is imported for the first time.\n",
      "\n",
      "  warnings.warn(_use_error_msg)\n"
     ]
    }
   ],
   "source": [
    "butler = dp.Butler('/global/projecta/projectdirs/lsst/global/in2p3/Run1.1/output')"
   ]
  },
  {
   "cell_type": "code",
   "execution_count": 3,
   "metadata": {},
   "outputs": [],
   "source": [
    "def read_tract(butler, tract, filter_='i', num_patches=None):\n",
    "    if num_patches is None:\n",
    "        num_patches = len(tract)\n",
    "    df_list = []\n",
    "    i = 0\n",
    "    for patch in tract:\n",
    "        patchId = '%d,%d' % patch.getIndex()\n",
    "        dataId = dict(filter=filter_, tract=tract.getId(), patch=patchId)\n",
    "        try:\n",
    "            forced = butler.get('deepCoadd_forced_src', dataId)\n",
    "            calib = butler.get('deepCoadd_calexp_calib', dataId)\n",
    "            calib.setThrowOnNegativeFlux(False)\n",
    "            merged = butler.get('deepCoadd_ref', dataId)\n",
    "        except dp.NoResults as eobj:\n",
    "            print(eobj)\n",
    "            continue\n",
    "        data = merged.asAstropy().to_pandas()\n",
    "        data[filter_ + '_modelfit_CModel_flux'] = forced['modelfit_CModel_flux']\n",
    "        data[filter_ + '_modelfit_CModel_fluxSigma'] = forced['modelfit_CModel_fluxSigma']\n",
    "        data[filter_ + '_mag_CModel'] = calib.getMagnitude(forced['modelfit_CModel_flux'])\n",
    "        data[filter_ + '_mag_err_CModel'] = calib.getMagnitude(forced['modelfit_CModel_fluxSigma'])\n",
    "        data[filter_ + '_modelfit_CModel_SNR'] \\\n",
    "            = forced['modelfit_CModel_flux']/forced['modelfit_CModel_fluxSigma']\n",
    "        data['ext_shapeHSM_HsmShapeRegauss_abs_e'] \\\n",
    "            = np.hypot(data['ext_shapeHSM_HsmShapeRegauss_e1'],\n",
    "                       data['ext_shapeHSM_HsmShapeRegauss_e2'])\n",
    "        print(i, patchId, len(data))\n",
    "        df_list.append(data)\n",
    "        i += 1\n",
    "        if i == num_patches:\n",
    "            break\n",
    "    return pd.concat(df_list)"
   ]
  },
  {
   "cell_type": "code",
   "execution_count": 4,
   "metadata": {
    "scrolled": false
   },
   "outputs": [
    {
     "name": "stdout",
     "output_type": "stream",
     "text": [
      "0 0,0 19559\n",
      "1 1,0 19286\n",
      "2 2,0 16514\n",
      "3 3,0 16028\n",
      "4 4,0 15304\n",
      "5 5,0 17023\n",
      "6 6,0 18090\n",
      "No locations for get: datasetType:deepCoadd_forced_src dataId:DataId(initialdata={'filter': 'i', 'tract': 4850, 'patch': '7,0'}, tag=set())\n",
      "7 0,1 15882\n",
      "8 1,1 15197\n",
      "9 2,1 19162\n",
      "10 3,1 17188\n",
      "11 4,1 16914\n",
      "12 5,1 18283\n",
      "13 6,1 18555\n",
      "No locations for get: datasetType:deepCoadd_forced_src dataId:DataId(initialdata={'filter': 'i', 'tract': 4850, 'patch': '7,1'}, tag=set())\n",
      "14 0,2 18083\n",
      "15 1,2 16223\n",
      "16 2,2 15199\n",
      "17 3,2 17378\n",
      "18 4,2 17807\n",
      "19 5,2 20840\n",
      "20 6,2 15421\n",
      "21 7,2 18754\n",
      "22 0,3 18869\n",
      "23 1,3 16101\n",
      "24 2,3 19169\n",
      "25 3,3 19680\n",
      "26 4,3 17435\n",
      "27 5,3 17944\n",
      "28 6,3 18132\n",
      "29 7,3 17105\n",
      "30 0,4 20346\n",
      "31 1,4 22248\n",
      "32 2,4 16654\n",
      "33 3,4 17649\n",
      "34 4,4 19324\n",
      "35 5,4 17298\n",
      "36 6,4 18524\n",
      "37 7,4 18250\n",
      "38 0,5 15984\n",
      "39 1,5 19885\n",
      "40 2,5 17180\n",
      "41 3,5 17326\n",
      "42 4,5 18597\n",
      "43 5,5 17612\n",
      "44 6,5 20534\n",
      "45 7,5 19189\n",
      "46 0,6 20262\n",
      "47 1,6 20569\n",
      "48 2,6 16392\n",
      "49 3,6 18537\n",
      "50 4,6 16572\n",
      "51 5,6 18357\n",
      "52 6,6 19765\n",
      "53 7,6 18061\n",
      "54 0,7 17816\n",
      "55 1,7 17157\n",
      "56 2,7 20309\n",
      "57 3,7 18093\n",
      "58 4,7 17533\n",
      "59 5,7 16266\n",
      "60 6,7 19483\n",
      "61 7,7 16645\n"
     ]
    },
    {
     "data": {
      "text/plain": [
       "1115542"
      ]
     },
     "execution_count": 4,
     "metadata": {},
     "output_type": "execute_result"
    }
   ],
   "source": [
    "skymap = butler.get('deepCoadd_skyMap')\n",
    "tractId = 4850\n",
    "filter_ = 'i'\n",
    "num_patches = None\n",
    "data = read_tract(butler, skymap[tractId], filter_=filter_, num_patches=num_patches)\n",
    "len(data)"
   ]
  },
  {
   "cell_type": "code",
   "execution_count": 5,
   "metadata": {},
   "outputs": [
    {
     "data": {
      "text/plain": [
       "590958"
      ]
     },
     "execution_count": 5,
     "metadata": {},
     "output_type": "execute_result"
    }
   ],
   "source": [
    "base_mask = ~(np.isnan(data['i_modelfit_CModel_flux'])\n",
    "         | np.isnan(data['ext_shapeHSM_HsmShapeRegauss_resolution'])\n",
    "         | np.isnan(data['ext_shapeHSM_HsmShapeRegauss_e1']))\n",
    "data = data[base_mask]\n",
    "len(data)"
   ]
  },
  {
   "cell_type": "code",
   "execution_count": 6,
   "metadata": {},
   "outputs": [],
   "source": [
    "mask = data['detect_isPrimary']\n",
    "mask &= data['deblend_skipped'] == False\n",
    "mask &= data['base_PixelFlags_flag_edge'] == False\n",
    "mask &= data['base_PixelFlags_flag_interpolatedCenter'] == False\n",
    "mask &= data['base_PixelFlags_flag_saturatedCenter'] == False\n",
    "mask &= data['base_PixelFlags_flag_crCenter'] == False\n",
    "mask &= data['base_PixelFlags_flag_bad'] == False\n",
    "mask &= data['base_PixelFlags_flag_suspectCenter'] == False\n",
    "mask &= data['base_PixelFlags_flag_clipped'] == False\n",
    "mask &= data['ext_shapeHSM_HsmShapeRegauss_flag'] == False\n",
    "\n",
    "# Cut on object properties\n",
    "mask &= data['i_modelfit_CModel_SNR'] >= 10\n",
    "mask &= data['ext_shapeHSM_HsmShapeRegauss_resolution'] >= 0.3\n",
    "mask &= data['ext_shapeHSM_HsmShapeRegauss_abs_e'] < 2\n",
    "mask &= data['ext_shapeHSM_HsmShapeRegauss_sigma'] <= 0.4\n",
    "mask &= data['i_mag_CModel'] < 24.5 # !!! Doesnt have exinction correction\n",
    "mask &= data['base_Blendedness_abs_flux'] < 10**(-0.375)"
   ]
  },
  {
   "cell_type": "code",
   "execution_count": 7,
   "metadata": {},
   "outputs": [
    {
     "data": {
      "image/png": "[encoded data removed]",
      "text/plain": [
       "<matplotlib.figure.Figure at 0x2b261b9de4e0>"
      ]
     },
     "metadata": {},
     "output_type": "display_data"
    }
   ],
   "source": [
    "fig = plt.figure(figsize=(10, 10))\n",
    "p1 = fig.add_subplot(2, 2, 1)\n",
    "hist_kwds = dict(bins=100, histtype='step')\n",
    "plt.hist(data['i_mag_CModel'][mask], **hist_kwds);\n",
    "plt.xlabel('CModel i-mag')\n",
    "p2 = fig.add_subplot(2, 2, 2)\n",
    "plt.hist(data['i_modelfit_CModel_SNR'][mask], range=(0, 100), **hist_kwds);\n",
    "plt.xlabel('CModel i-band S/N')\n",
    "p3 = fig.add_subplot(2, 2, 3)\n",
    "plt.hist(data['ext_shapeHSM_HsmShapeRegauss_resolution'][mask], **hist_kwds);\n",
    "plt.xlabel('HSM resolution')\n",
    "p4 = fig.add_subplot(2, 2, 4)\n",
    "plt.hist(data['ext_shapeHSM_HsmShapeRegauss_abs_e'][mask], **hist_kwds);\n",
    "plt.xlabel('HSM |e|');"
   ]
  }
 ],
 "metadata": {
  "kernelspec": {
   "display_name": "lsst_sims",
   "language": "python",
   "name": "lsst_sims"
  },
  "language_info": {
   "codemirror_mode": {
    "name": "ipython",
    "version": 3
   },
   "file_extension": ".py",
   "mimetype": "text/x-python",
   "name": "python",
   "nbconvert_exporter": "python",
   "pygments_lexer": "ipython3",
   "version": "3.6.2"
  }
 },
 "nbformat": 4,
 "nbformat_minor": 2
}
